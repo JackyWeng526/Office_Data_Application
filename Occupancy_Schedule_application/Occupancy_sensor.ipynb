{
 "cells": [
  {
   "cell_type": "markdown",
   "metadata": {},
   "source": [
    "# Data collecting of the occupancy detector \n",
    "For record the occupancy in the office zone, an occupancy detector is introduced.\n",
    "\n",
    "The infrared array sensor grid-eye unit is AMGU 4241, produced by Panasonic.\n",
    "\n",
    "The electric specifications follows RS-485 and the protocol is Modbus-RTU.\n",
    "\n",
    "We use Raspberry Pi as data logger and conduct the signal connection through python.\n",
    "\n",
    "Here share the code and the datasheet of the device can refer to the link at the bottom."
   ]
  },
  {
   "cell_type": "markdown",
   "metadata": {},
   "source": [
    "### Import packages"
   ]
  },
  {
   "cell_type": "code",
   "execution_count": 1,
   "metadata": {},
   "outputs": [],
   "source": [
    "import pandas as pd\n",
    "import numpy as np\n",
    "import datetime\n",
    "from pymodbus.client.sync import ModbusSerialClient\n",
    "import sqlite3\n",
    "from scipy.interpolate import griddata\n",
    "import plotly.graph_objects as go\n",
    "import plotly.io as pio\n",
    "pio.renderers.default = \"svg\""
   ]
  },
  {
   "cell_type": "markdown",
   "metadata": {},
   "source": [
    "### Connect the device\n",
    "Record the data by connecting to the device's signal.\n",
    "\n",
    "Store the data in a db file."
   ]
  },
  {
   "cell_type": "code",
   "execution_count": 2,
   "metadata": {},
   "outputs": [],
   "source": [
    "def get_data():\n",
    "    Time = datetime.datetime.now().strftime(\"%Y-%m-%d %H:%M:%S\")\n",
    "    # Set protocol parameters\n",
    "    client = ModbusSerialClient(method='rtu', port='/dev/ttyUSB0', baudrate=38400, parity='O', bytesize=8, stopbits=1)\n",
    "    response = client.read_holding_registers(address=0x0000, count=7, unit=0x01)\n",
    "    res = response.registers\n",
    "    # get occupancy\n",
    "    src = res[0]\n",
    "    Occ = src\n",
    "    # get positions\n",
    "    src = res[1]\n",
    "    Pos1 = src\n",
    "    src = res[2]\n",
    "    Pos2 = src\n",
    "    # get existence\n",
    "    src = res[3]\n",
    "    Exist = src\n",
    "    # get moving direction\n",
    "    src = res[4]\n",
    "    Dir1 = src\n",
    "    src = res[5]\n",
    "    Dir2 = src\n",
    "    # get surface Temp.\n",
    "    src = res[6]\n",
    "    src = round(src/256, 2)\n",
    "    Temp = src\n",
    "    \n",
    "    data = pd.DataFrame(dict(\n",
    "        Time = [Time],\n",
    "        Temp = [Temp],\n",
    "        Occ = [Occ],\n",
    "        Pos1 = [Pos1],\n",
    "        Pos2 = [Pos2],\n",
    "        Exist = [Exist],\n",
    "        Dir1 = [Dir1],\n",
    "        Dir2 = [Dir2]))\n",
    "    return data\n",
    "\n",
    "# data_log = get_data()\n",
    "# conn = sqlite3.connect(r'C:\\Users\\Jacky\\Jupyter Projects\\Occupancy_Prediction\\Data\\get_AMGU.db')\n",
    "# cursor = conn.cursor()    \n",
    "# data_log.to_sql('sensor_log', con=conn, if_exists='append')"
   ]
  },
  {
   "cell_type": "markdown",
   "metadata": {},
   "source": [
    "**Note: Use a loop function can record the data continuously."
   ]
  },
  {
   "cell_type": "markdown",
   "metadata": {},
   "source": [
    "### Import raw data\n",
    "Choose an example from database for grid data analysis."
   ]
  },
  {
   "cell_type": "code",
   "execution_count": 3,
   "metadata": {},
   "outputs": [
    {
     "data": {
      "text/html": [
       "<div>\n",
       "<style scoped>\n",
       "    .dataframe tbody tr th:only-of-type {\n",
       "        vertical-align: middle;\n",
       "    }\n",
       "\n",
       "    .dataframe tbody tr th {\n",
       "        vertical-align: top;\n",
       "    }\n",
       "\n",
       "    .dataframe thead th {\n",
       "        text-align: right;\n",
       "    }\n",
       "</style>\n",
       "<table border=\"1\" class=\"dataframe\">\n",
       "  <thead>\n",
       "    <tr style=\"text-align: right;\">\n",
       "      <th></th>\n",
       "      <th>Time</th>\n",
       "      <th>Occ</th>\n",
       "      <th>Pos1</th>\n",
       "      <th>Pos2</th>\n",
       "      <th>Exist</th>\n",
       "      <th>Dir1</th>\n",
       "      <th>Dir2</th>\n",
       "      <th>Temp</th>\n",
       "    </tr>\n",
       "  </thead>\n",
       "  <tbody>\n",
       "    <tr>\n",
       "      <th>0</th>\n",
       "      <td>2020-10-07 14:05:02</td>\n",
       "      <td>2</td>\n",
       "      <td>29696</td>\n",
       "      <td>0</td>\n",
       "      <td>36864</td>\n",
       "      <td>0</td>\n",
       "      <td>0</td>\n",
       "      <td>21.59</td>\n",
       "    </tr>\n",
       "    <tr>\n",
       "      <th>1</th>\n",
       "      <td>2020-10-07 14:06:02</td>\n",
       "      <td>3</td>\n",
       "      <td>29708</td>\n",
       "      <td>0</td>\n",
       "      <td>36880</td>\n",
       "      <td>10</td>\n",
       "      <td>0</td>\n",
       "      <td>21.63</td>\n",
       "    </tr>\n",
       "  </tbody>\n",
       "</table>\n",
       "</div>"
      ],
      "text/plain": [
       "                  Time  Occ   Pos1 Pos2  Exist Dir1 Dir2   Temp\n",
       "0  2020-10-07 14:05:02    2  29696    0  36864    0    0  21.59\n",
       "1  2020-10-07 14:06:02    3  29708    0  36880   10    0  21.63"
      ]
     },
     "execution_count": 3,
     "metadata": {},
     "output_type": "execute_result"
    }
   ],
   "source": [
    "conn = sqlite3.connect(r'C:\\Users\\Jacky\\Jupyter Projects\\Occupancy_Prediction\\Data\\get_AMGU.db')\n",
    "start = \"2020-10-07 14:05\"\n",
    "end = \"2020-10-07 14:07\"\n",
    "sql_read = F\"SELECT * FROM sensor_log WHERE Time BETWEEN '{start}' AND '{end}'\"\n",
    "pp_rawdata = pd.read_sql(sql=sql_read, con=conn)\n",
    "conn.close()\n",
    "pp_rawdata.drop(['index'], axis=1)"
   ]
  },
  {
   "cell_type": "markdown",
   "metadata": {},
   "source": [
    "### Plot the position figure\n",
    "The raw data is transferred into the grid frame and plotted as a heatmap to present the human position.\n",
    "\n",
    "The blue polygons represent the desks and chairs in the office.\n",
    "\n",
    "The bright color blocks represent human occupancy. "
   ]
  },
  {
   "cell_type": "code",
   "execution_count": 4,
   "metadata": {},
   "outputs": [
    {
     "data": {
      "image/svg+xml": [
       "<svg class=\"main-svg\" xmlns=\"http://www.w3.org/2000/svg\" xmlns:xlink=\"http://www.w3.org/1999/xlink\" width=\"700\" height=\"450\" style=\"\" viewBox=\"0 0 700 450\"><rect x=\"0\" y=\"0\" width=\"700\" height=\"450\" style=\"fill: rgb(255, 255, 255); fill-opacity: 1;\"/><defs id=\"defs-0ef6a7\"><g class=\"clips\"><clipPath id=\"clip0ef6a7xyplot\" class=\"plotclip\"><rect width=\"540\" height=\"270\"/></clipPath><clipPath class=\"axesclip\" id=\"clip0ef6a7x\"><rect x=\"80\" y=\"0\" width=\"540\" height=\"450\"/></clipPath><clipPath class=\"axesclip\" id=\"clip0ef6a7y\"><rect x=\"0\" y=\"100\" width=\"700\" height=\"270\"/></clipPath><clipPath class=\"axesclip\" id=\"clip0ef6a7xy\"><rect x=\"80\" y=\"100\" width=\"540\" height=\"270\"/></clipPath></g><g class=\"gradients\"/></defs><g class=\"bglayer\"><rect class=\"bg\" x=\"80\" y=\"100\" width=\"540\" height=\"270\" style=\"fill: rgb(229, 236, 246); fill-opacity: 1; stroke-width: 0;\"/></g><g class=\"layer-below\"><g class=\"imagelayer\"/><g class=\"shapelayer\"/></g><g class=\"cartesianlayer\"><g class=\"subplot xy\"><g class=\"layer-subplot\"><g class=\"shapelayer\"/><g class=\"imagelayer\"/></g><g class=\"gridlayer\"><g class=\"x\"><path class=\"xgrid crisp\" transform=\"translate(282.5,0)\" d=\"M0,100v270\" style=\"stroke: rgb(255, 255, 255); stroke-opacity: 1; stroke-width: 1px;\"/><path class=\"xgrid crisp\" transform=\"translate(417.5,0)\" d=\"M0,100v270\" style=\"stroke: rgb(255, 255, 255); stroke-opacity: 1; stroke-width: 1px;\"/><path class=\"xgrid crisp\" transform=\"translate(552.5,0)\" d=\"M0,100v270\" style=\"stroke: rgb(255, 255, 255); stroke-opacity: 1; stroke-width: 1px;\"/></g><g class=\"y\"><path class=\"ygrid crisp\" transform=\"translate(0,268.75)\" d=\"M80,0h540\" style=\"stroke: rgb(255, 255, 255); stroke-opacity: 1; stroke-width: 1px;\"/><path class=\"ygrid crisp\" transform=\"translate(0,201.25)\" d=\"M80,0h540\" style=\"stroke: rgb(255, 255, 255); stroke-opacity: 1; stroke-width: 1px;\"/><path class=\"ygrid crisp\" transform=\"translate(0,133.75)\" d=\"M80,0h540\" style=\"stroke: rgb(255, 255, 255); stroke-opacity: 1; stroke-width: 1px;\"/></g></g><g class=\"zerolinelayer\"><path class=\"xzl zl crisp\" transform=\"translate(147.5,0)\" d=\"M0,100v270\" style=\"stroke: rgb(255, 255, 255); stroke-opacity: 1; stroke-width: 2px;\"/><path class=\"yzl zl crisp\" transform=\"translate(0,336.25)\" d=\"M80,0h540\" style=\"stroke: rgb(255, 255, 255); stroke-opacity: 1; stroke-width: 2px;\"/></g><path class=\"xlines-below\"/><path class=\"ylines-below\"/><g class=\"overlines-below\"/><g class=\"xaxislayer-below\"/><g class=\"yaxislayer-below\"/><g class=\"overaxes-below\"/><g class=\"plot\" transform=\"translate(80, 100)\" clip-path=\"url('#clip0ef6a7xyplot')\"><g class=\"heatmaplayer mlayer\"><g class=\"hm\"><image xmlns=\"http://www.w3.org/2000/svg\" preserveAspectRatio=\"none\" height=\"270\" width=\"540\" x=\"0\" y=\"0\" xlink:href=\"data:image/png;base64,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\" style=\"opacity: 1;\"/></g></g></g><g class=\"overplot\"/><path class=\"xlines-above crisp\" d=\"M79,99.5H621M79,370.5H621\" style=\"fill: none; stroke-width: 1px; stroke: rgb(0, 0, 0); stroke-opacity: 1;\"/><path class=\"ylines-above crisp\" d=\"M79.5,100V370M620.5,100V370\" style=\"fill: none; stroke-width: 1px; stroke: rgb(0, 0, 0); stroke-opacity: 1;\"/><g class=\"overlines-above\"/><g class=\"xaxislayer-above\"/><g class=\"yaxislayer-above\"/><g class=\"overaxes-above\"/></g></g><g class=\"polarlayer\"/><g class=\"ternarylayer\"/><g class=\"geolayer\"/><g class=\"funnelarealayer\"/><g class=\"pielayer\"/><g class=\"treemaplayer\"/><g class=\"sunburstlayer\"/><g class=\"glimages\"/><defs id=\"topdefs-0ef6a7\"><g class=\"clips\"/></defs><g class=\"layer-above\"><g class=\"imagelayer\"/><g class=\"shapelayer\"><path data-index=\"0\" fill-rule=\"evenodd\" d=\"M174.5,214.75A27,13.5 0 1,1 147.5,201.25A27,13.5 0 0,1 174.5,214.75Z\" clip-path=\"url('#clip0ef6a7xy')\" style=\"opacity: 1; stroke: rgb(65, 105, 225); stroke-opacity: 1; fill: rgb(0, 0, 0); fill-opacity: 0; stroke-width: 2px;\"/><path data-index=\"1\" fill-rule=\"evenodd\" d=\"M309.5,214.75A27,13.5 0 1,1 282.5,201.25A27,13.5 0 0,1 309.5,214.75Z\" clip-path=\"url('#clip0ef6a7xy')\" style=\"opacity: 1; stroke: rgb(65, 105, 225); stroke-opacity: 1; fill: rgb(0, 0, 0); fill-opacity: 0; stroke-width: 2px;\"/><path data-index=\"2\" fill-rule=\"evenodd\" d=\"M174.5,154A27,13.5 0 1,1 147.5,140.5A27,13.5 0 0,1 174.5,154Z\" clip-path=\"url('#clip0ef6a7xy')\" style=\"opacity: 1; stroke: rgb(65, 105, 225); stroke-opacity: 1; fill: rgb(0, 0, 0); fill-opacity: 0; stroke-width: 2px;\"/><path data-index=\"3\" fill-rule=\"evenodd\" d=\"M309.5,154A27,13.5 0 1,1 282.5,140.5A27,13.5 0 0,1 309.5,154Z\" clip-path=\"url('#clip0ef6a7xy')\" style=\"opacity: 1; stroke: rgb(65, 105, 225); stroke-opacity: 1; fill: rgb(0, 0, 0); fill-opacity: 0; stroke-width: 2px;\"/><path data-index=\"4\" fill-rule=\"evenodd\" d=\"M174.5,343A27,13.5 0 1,1 147.5,329.5A27,13.5 0 0,1 174.5,343Z\" clip-path=\"url('#clip0ef6a7xy')\" style=\"opacity: 1; stroke: rgb(65, 105, 225); stroke-opacity: 1; fill: rgb(0, 0, 0); fill-opacity: 0; stroke-width: 2px;\"/><path data-index=\"5\" fill-rule=\"evenodd\" d=\"M309.5,343A27,13.5 0 1,1 282.5,329.5A27,13.5 0 0,1 309.5,343Z\" clip-path=\"url('#clip0ef6a7xy')\" style=\"opacity: 1; stroke: rgb(65, 105, 225); stroke-opacity: 1; fill: rgb(0, 0, 0); fill-opacity: 0; stroke-width: 2px;\"/><path data-index=\"6\" fill-rule=\"evenodd\" d=\"M620,214.75A27,13.5 0 1,1 593,201.25A27,13.5 0 0,1 620,214.75Z\" clip-path=\"url('#clip0ef6a7xy')\" style=\"opacity: 1; stroke: rgb(65, 105, 225); stroke-opacity: 1; fill: rgb(0, 0, 0); fill-opacity: 0; stroke-width: 2px;\"/><path data-index=\"7\" fill-rule=\"evenodd\" d=\"M620,154A27,13.5 0 1,1 593,140.5A27,13.5 0 0,1 620,154Z\" clip-path=\"url('#clip0ef6a7xy')\" style=\"opacity: 1; stroke: rgb(65, 105, 225); stroke-opacity: 1; fill: rgb(0, 0, 0); fill-opacity: 0; stroke-width: 2px;\"/><path data-index=\"8\" fill-rule=\"evenodd\" d=\"M620,343A27,13.5 0 1,1 593,329.5A27,13.5 0 0,1 620,343Z\" clip-path=\"url('#clip0ef6a7xy')\" style=\"opacity: 1; stroke: rgb(65, 105, 225); stroke-opacity: 1; fill: rgb(0, 0, 0); fill-opacity: 0; stroke-width: 2px;\"/><path data-index=\"9\" fill-rule=\"evenodd\" d=\"M80,322.75H363.5V235H80Z\" clip-path=\"url('#clip0ef6a7xy')\" style=\"opacity: 1; stroke: rgb(65, 105, 225); stroke-opacity: 1; fill: rgb(0, 0, 0); fill-opacity: 0; stroke-width: 2px;\"/><path data-index=\"10\" fill-rule=\"evenodd\" d=\"M80,133.75H363.5V100H80Z\" clip-path=\"url('#clip0ef6a7xy')\" style=\"opacity: 1; stroke: rgb(65, 105, 225); stroke-opacity: 1; fill: rgb(0, 0, 0); fill-opacity: 0; stroke-width: 2px;\"/><path data-index=\"11\" fill-rule=\"evenodd\" d=\"M512,322.75H620V235H512Z\" clip-path=\"url('#clip0ef6a7xy')\" style=\"opacity: 1; stroke: rgb(65, 105, 225); stroke-opacity: 1; fill: rgb(0, 0, 0); fill-opacity: 0; stroke-width: 2px;\"/><path data-index=\"12\" fill-rule=\"evenodd\" d=\"M512,133.75H620V100H512Z\" clip-path=\"url('#clip0ef6a7xy')\" style=\"opacity: 1; stroke: rgb(65, 105, 225); stroke-opacity: 1; fill: rgb(0, 0, 0); fill-opacity: 0; stroke-width: 2px;\"/></g></g><g class=\"infolayer\"><g class=\"g-gtitle\"/><g class=\"g-xtitle\"><text class=\"xtitle\" x=\"350\" y=\"57\" text-anchor=\"middle\" style=\"font-family: 'Open Sans', verdana, arial, sans-serif; font-size: 14px; fill: rgb(42, 63, 95); opacity: 1; font-weight: normal; white-space: pre;\"><tspan class=\"line\" dy=\"0em\" x=\"350\" y=\"57\">Latest update: 2020-10-07 14:05:02 </tspan><tspan class=\"line\" dy=\"1.3em\" x=\"350\" y=\"57\"> Occupancy: 2</tspan></text></g><g class=\"g-ytitle\"/></g></svg>"
      ]
     },
     "metadata": {},
     "output_type": "display_data"
    },
    {
     "data": {
      "image/svg+xml": [
       "<svg class=\"main-svg\" xmlns=\"http://www.w3.org/2000/svg\" xmlns:xlink=\"http://www.w3.org/1999/xlink\" width=\"700\" height=\"450\" style=\"\" viewBox=\"0 0 700 450\"><rect x=\"0\" y=\"0\" width=\"700\" height=\"450\" style=\"fill: rgb(255, 255, 255); fill-opacity: 1;\"/><defs id=\"defs-154db8\"><g class=\"clips\"><clipPath id=\"clip154db8xyplot\" class=\"plotclip\"><rect width=\"540\" height=\"270\"/></clipPath><clipPath class=\"axesclip\" id=\"clip154db8x\"><rect x=\"80\" y=\"0\" width=\"540\" height=\"450\"/></clipPath><clipPath class=\"axesclip\" id=\"clip154db8y\"><rect x=\"0\" y=\"100\" width=\"700\" height=\"270\"/></clipPath><clipPath class=\"axesclip\" id=\"clip154db8xy\"><rect x=\"80\" y=\"100\" width=\"540\" height=\"270\"/></clipPath></g><g class=\"gradients\"/></defs><g class=\"bglayer\"><rect class=\"bg\" x=\"80\" y=\"100\" width=\"540\" height=\"270\" style=\"fill: rgb(229, 236, 246); fill-opacity: 1; stroke-width: 0;\"/></g><g class=\"layer-below\"><g class=\"imagelayer\"/><g class=\"shapelayer\"/></g><g class=\"cartesianlayer\"><g class=\"subplot xy\"><g class=\"layer-subplot\"><g class=\"shapelayer\"/><g class=\"imagelayer\"/></g><g class=\"gridlayer\"><g class=\"x\"><path class=\"xgrid crisp\" transform=\"translate(282.5,0)\" d=\"M0,100v270\" style=\"stroke: rgb(255, 255, 255); stroke-opacity: 1; stroke-width: 1px;\"/><path class=\"xgrid crisp\" transform=\"translate(417.5,0)\" d=\"M0,100v270\" style=\"stroke: rgb(255, 255, 255); stroke-opacity: 1; stroke-width: 1px;\"/><path class=\"xgrid crisp\" transform=\"translate(552.5,0)\" d=\"M0,100v270\" style=\"stroke: rgb(255, 255, 255); stroke-opacity: 1; stroke-width: 1px;\"/></g><g class=\"y\"><path class=\"ygrid crisp\" transform=\"translate(0,268.75)\" d=\"M80,0h540\" style=\"stroke: rgb(255, 255, 255); stroke-opacity: 1; stroke-width: 1px;\"/><path class=\"ygrid crisp\" transform=\"translate(0,201.25)\" d=\"M80,0h540\" style=\"stroke: rgb(255, 255, 255); stroke-opacity: 1; stroke-width: 1px;\"/><path class=\"ygrid crisp\" transform=\"translate(0,133.75)\" d=\"M80,0h540\" style=\"stroke: rgb(255, 255, 255); stroke-opacity: 1; stroke-width: 1px;\"/></g></g><g class=\"zerolinelayer\"><path class=\"xzl zl crisp\" transform=\"translate(147.5,0)\" d=\"M0,100v270\" style=\"stroke: rgb(255, 255, 255); stroke-opacity: 1; stroke-width: 2px;\"/><path class=\"yzl zl crisp\" transform=\"translate(0,336.25)\" d=\"M80,0h540\" style=\"stroke: rgb(255, 255, 255); stroke-opacity: 1; stroke-width: 2px;\"/></g><path class=\"xlines-below\"/><path class=\"ylines-below\"/><g class=\"overlines-below\"/><g class=\"xaxislayer-below\"/><g class=\"yaxislayer-below\"/><g class=\"overaxes-below\"/><g class=\"plot\" transform=\"translate(80, 100)\" clip-path=\"url('#clip154db8xyplot')\"><g class=\"heatmaplayer mlayer\"><g class=\"hm\"><image xmlns=\"http://www.w3.org/2000/svg\" preserveAspectRatio=\"none\" height=\"270\" width=\"540\" x=\"0\" y=\"0\" xlink:href=\"data:image/png;base64,iVBORw0KGgoAAAANSUhEUgAAAhwAAAEOCAYAAADCCM5xAAAbNElEQVR4Xu2d7W2lx9FEKWZjKAlFYXijkTYagxvFRmFnQ75Y4f1nXt756umq7uO/nGemuk6hXb4S4N/e3t4+XvgPDvyvA9//+Z9//4kxOPA/Dny8fP/x+zeyQTQ+c+D7y8sL2SAbn2bjNwoHyXjgAIWDaHzuAIWDZDx2gMJBOh458J3CQTgehoNfOAjHpw5QOAgGhYMMzDtA4Zj3rM0X/MLRBvXkoBSOScNaHecXjla4p4alcEzZ1eswhaMX7/FpKRzjXvU7SeHox3x0YgrHqFMNz1E4GkIfGpnCMWRT00MUjqbgB8amcAyY1PUIhaMr+WdzUzieOdT57xSOzvS/np3CQTYeOkDhIByfO0DhIBmPHaBwkI5HDlA4yAaFgwxMOkDhmDSs1XEKRyvcU8NSOKbs6nWYXzh68R6flsIx7lW/kxSOfsxHJ6ZwjDrV8ByFoyH0oZEpHEM2NT1E4WgKfmBsCseASV2PUDi6kn82N4XjmUOd/07h6Ez/69kpHGSDf4eDDEw6QOGYNKzVcQpHK9xTw1I4puzqdZhfOHrxHp+WwjHuVb+TFI5+zEcnpnCMOtXwHIWjIfShkSkcQzY1PUThaAp+YGwKx4BJXY9QOLqSfzY3heOZQ53/TuHoTJ9/hwP6iw5QOBaNK/8ZhaM84o0BKRwb5hX/lF84igPeGY/CseNe5W8pHJXp7s5G4dh1sO73FI66bLcno3BsW1j0AgpHUbBHxqJwHLGx5CUUjpJYzwxF4TjjY71bKBz1mJ6biMJxzstqN1E4qhE9OA+F46CZpa6icJTCeXgYCsdhQwtdR+EoBPP0KBSO045WuY/CUYVkxBwUjghXa9xJ4ajBMWQKCkeIrQUupXAUgBg2AoUjzFr7iykc9gjjBqBwxHnrfTOFw5tfrHoKR6y/zrdTOJzpBWuncAQbbHs9hcMW3QXhFI4LJps+QeEwBXdDNoXjhsuOb1A4HKnd0kzhuOW03zsUDj9m1xRTOK5ZbfYQhcMM2FW5FI6rdls9RuGwwnVXLIXjrt8+r1E4fFjdV0rhuO+5y4sUDhdSCTopHAmmWzxJ4bDAlCSSwpFkvMGzFA4DSFkSKRxZzqu/S+FQJ5Spj8KR6b722xQObT6p6igcqfYLP07hEIaTLo3CkY5AVgCFQxZNvjAKRz4DTQUUDk0uGqooHBocFFVQOBSpiGiicIiAkJNB4ZBDIiSIwiEEQ0wKhUMMiJIcCocSDSUtFA4lGmpaKBxqRHT0UDh0WMgpoXDIIRERROEQASEpg8IhiUVCFIVDAoOmCAqHJpd8VRSOfAa6CigcumyylVE4sgkIv0/hEIaTKo3CkWq/+OMUDnFAifIoHInmqz9N4VAnlKWPwpHlvMO7FA4HSjkaKRw5vlu8SuGwwJQgksKRYLrNkxQOG1TXhVI4rlvu8yCFw4fVXaUUjrt+e71G4fDidVMtheOm22ZvUTjMgF2TS+G4ZrXhQxQOQ2iXJFM4Lhnt+AyFw5HaDc0Ujhsuu75B4XAlF6+bwhHvse0LFA5bdMHCKRzBBltfT+GwxhcqnsIRaq/35RQOb35x6ikccd7630zh8GcYNQGFI8rZAvdSOApADBmBwhFia5FLKRxFQAaMQeEIMLXKlRSOKiRPz0HhOO1opfsoHJVonp2FwnHWz1K3UThK4Tw4DIXjoJnlrqJwlEN6bCAKxzEr611E4ajH9MxEFI4zPta8hcJRk+uJqSgcJ1wsegeFoyjY7bEoHNsWFr6AwlEY7uZoFI5NAyt/TuGoTHdnNgrHjnvVv6VwVCe8Ph+FY9278l9SOMojXhyQwrFoXIvPKBwtMC8NSeFYsq3HRxSOHpznp6RwzHvW5wsKRx/Ws5NSOGYda3SewtEI9tSoFI4pu5odpnA0Az4xLoVjwqxuRykc3YiPzkvhGHWq4zkKR0fqYzNTOMZ8anmKwtES+8DQFI4Bk9oeoXC0Rf90cArHU4v6HqBw9GX/9eQUDpLx2AEKB+l45ACFg2w8dIDCQTg+d4DCQTIoHGRg3gEKx7xnbb6gcLRBPTkohWPSsFbH+YWjFe6pYSkcU3b1Okzh6MV7fFoKx7hX/U5SOPoxH52YwjHqVMNzFI6G0IdGpnAM2dT0EIWjKfiBsSkcAyZ1PULh6Er+2dwUjmcOdf47haMz/a9np3CQjYcOUDgIx+cOUDhIxmMHKByk45EDFA6yQeEgA5MOUDgmDWt1nMLRCvfUsBSOKbt6HeYXjl68x6elcIx71e8khaMf89GJKRyjTjU8R+FoCH1oZArHkE1ND1E4moIfGJvCMWBS1yMUjq7kn81N4XjmUOe/Uzg60/96dgoH2eDf4SADkw5QOCYNa3WcwtEK99SwfxeOv6Y+4XALB97f33/+679vf7QYliHnHHh9+fnjH9/IxpxrLU7/2huvr69kowXtuSF/ZeNX4fiY+4zTTRzgf6k0Ab0wJtlYMK3JJ2SjCeiFMflHKgumdfmExdGF9PycZGPesy5fkI0upOfnpHDMe9bmCxZHG9TTg5KNacvafEA22qCeHpTCMW1Znw9YHH1Yz05KNmYd63OebPRhPTsphWPWsUbnWRyNYE+OSjYmDWt0nGw0gj05KoVj0rBOx1kcnWjPzUo25vzqdJpsdKI9NyuFY86vVqdZHK1wTw1LNqbsanWYbLTCPTUshWPKrl6HWRy9eM9MSzZm3Op1lmz04j0zLYVjxq1mZ1kczYBPjEs2JsxqdpRsNAM+MS6FY8KsbkdZHN2Ij89LNsa96naSbHQjPj4vhWPcq3YnWRztkA8PTDaGrWp3kGy0Qz48MIVj2Kp+B1kc/ZiPTkw2Rp3qd45s9GM+OjGFY9SphudYHA2hD45MNgaNaniMbDSEPjgyhWPQqI7HWBwdqY/NTDbGfOp4imx0pD42M4VjzKeWp1gcLbEPDU02hmxqeYhstMQ+NDSFY8imnodYHD25j0xNNkZc6nmGbPTkPjI1hWPEpaZnWBxNwQ+MTTYGTGp6hGw0BT8wNoVjwKSuR1gcXck/n5tsPPeo6wmy0ZX887kpHM89anuCxdEW/dPBycZTi9oeIBtt0T8dnMLx1KK+B1gcfdk/m5xsPHOo79/JRl/2zyancDxzqPHfWRyN4T8ZnWyQjUcOkA2y8TAbv729vX3gDw584gCLg1jwXypkYNYB9sasY33O8wtHH9bTk7I4pi1r8wHZaIN6elCyMW1Zmw8oHG1Qzw/K4pj3rMsXZKML6fk5yca8Z12+oHB0Ib0wJ4tjwbQmn5CNJqAXxiQbC6Y1+YTC0QT0ypgsjhXXenxDNnpwXpmSbKy41uMbCkcPzktTsjiWbGvxEdlogXlpSLKxZFuLjygcLTCvDcniWPOtw1dkowPltRnJxppvHb6icHSgvDgji2PRuAafkY0GkBdHJBuLxjX4jMLRAPLqiCyOVefqf0c26jNenZBsrDpX/zsKR33GyxOyOJatK/8h2SiPeHlAsrFsXfkPKRzlEa8PyOJY9676l2SjOuH1+cjGunfVv6RwVCe8MR+LY8O84p+SjeKAN8YjGxvmFf+UwlEc8M54LI4d92p/SzZq892ZjmzsuFf7WwpHbb5b07E4tuwr/THZKI13aziysWVf6Y8pHKXx7g3H4tjzr/LXZKMy3b3ZyMaef5W/pnBUprs5G4tj08DCn5ONwnA3RyMbmwYW/pzCURju7mgsjl0H635PNuqy3Z2MbOw6WPd7CkddttuTsTi2LSx7Adkoi3Z7MLKxbWHZCygcZdHuD8bi2Pew6g1koyrZ/bnIxr6HVW+gcFQle2AuFscBE4teQTaKgj0wFtk4YGLRKygcRcGeGIvFccLFmneQjZpcT0xFNk64WPMOCkdNrkemYnEcsbHkJWSjJNYjQ5GNIzaWvITCURLrmaFYHGd8rHgL2ahI9cxMZOOMjxVvoXBUpHpoJhbHISMLXkM2CkI9NBLZOGRkwWsoHAWhnhqJxXHKyXr3kI16TE9NRDZOOVnvHgpHPabHJmJxHLOy3EVkoxzSYwORjWNWlruIwlEO6bmBWBznvKx2E9moRvTcPGTjnJfVbqJwVCN6cB4Wx0Ezi11FNooBPTgO2ThoZrGrKBzFgJ4ch8Vx0s1ad5GNWjxPTkM2TrpZ6y4KRy2eR6dhcRy1s9RlZKMUzqPDkI2jdpa6jMJRCufZYVgcZ/2sdBvZqETz7Cxk46yflW6jcFSieXgWFsdhQwtdRzYKwTw8Ctk4bGih6ygchWCeHoXFcdrROveRjTosT09CNk47Wuc+CkcdlscnYXEct7TMhWSjDMrjg5CN45aWuZDCUQbl+UFYHOc9rXIj2ahC8vwcZOO8p1VupHBUIRkwB4sjwNQiV5KNIiADxiAbAaYWuZLCUQRkxBgsjghXa9xJNmpwjJiCbES4WuNOCkcNjiFTsDhCbC1xKdkogTFkCLIRYmuJSykcJTDGDMHiiPG1wq1kowLFmBnIRoyvFW6lcFSgGDQDiyPI2ALXko0CEINGIBtBxha4lsJRAGLUCCyOKGf97yUb/gyjJiAbUc7630vh8GcYNgGLI8xa+4vJhj3CsAHIRpi19hdTOOwRxg3A4ojz1v1msuFOME4/2Yjz1v1mCoc7wUD9LI5Ac82vJhvmAAPlk41Ac82vpnCYA4yUz+KIdNf7brLhzS9SPdmIdNf77r8Lx1/eM6A+woH39/efr6+vf0TczZ3eDpANb36R6slGpLved//Kxq/C8eE9BuqDHOB/qQQZW+BaslEAYtAIZCPI2ALX8o9UCkCMGoHFEeWs/71kw59h1ARkI8pZ/3spHP4MwyZgcYRZa38x2bBHGDYA2Qiz1v5iCoc9wrgBWBxx3rrfTDbcCcbpJxtx3rrfTOFwJxion8URaK751WTDHGCgfLIRaK751RQOc4CR8lkcke563002vPlFqicbke56303h8OYXqp7FEWqv9eVkwxpfqHiyEWqv9eUUDmt8seJZHLH+Ot9ONpzpxWonG7H+Ot9O4XCmF6ydxRFssPH1ZMMYXrB0shFssPH1FA5jeNHSWRzRDvveTzZ82UUrJxvRDvveT+HwZReunMURbrHtA2TDFl24cLIRbrHtAxQOW3Txwlkc8R67vkA2XMnF6yYb8R67vkDhcCV3QTeL44LJpk+QDVNwF2STjQsmmz5B4TAFd0M2i+OGy55vkA1PbjdUk40bLnu+QeHw5HZFNYvjis2Wj5ANS2xXRJONKzZbPkLhsMR2RzSL447Pjq+QDUdqdzSTjTs+O75C4XCkdkkzi+OS0YbPkA1DaJckk41LRhs+Q+EwhHZLMovjltN+75ANP2a3FJONW077vUPh8GN2TTGL45rVdg+RDTtk1wSTjWtW2z1E4bBDdk8wi+Oe124vkQ03Yvf0ko17Xru9ROFwI3ZRL4vjotlmT5ENM2AX5ZKNi2abPUXhMAN2Uy6L46bbXm+RDS9eN9WSjZtue71F4fDidVUti+Oq3VaPkQ0rXFfFko2rdls9RuGwwnVXLIvjrt9Or5ENJ1p3tZKNu347vUbhcKJ1WSuL47LhRs+RDSNYl6WSjcuGGz1H4TCCdVsqi+O24z7vkQ0fVreVko3bjvu8R+HwYXVdKYvjuuU2D5ING1TXhZKN65bbPEjhsEF1XyiL477nLi+SDRdS93WSjfueu7xI4XAhlaCTxZFgusmTZMMEVIJMspFgusmTFA4TUBkyWRwZrnu8STY8OGWoJBsZrnu8SeHw4JSiksWRYrvFo2TDAlOKSLKRYrvFoxQOC0w5IlkcOb47vEo2HCjlaCQbOb47vErhcKCUpJHFkWS8wbNkwwBSkkSykWS8wbMUDgNIWRJZHFnO679LNvQZZSkkG1nO679L4dBnlKaQxZFmvfzDZEMeUZpAspFmvfzDFA55RHkCWRx53qu/TDbUCeXpIxt53qu/TOFQJ5Soj8WRaL7402RDHFCiPLKRaL740xQOcUCZ8lgcme5rv002tPlkqiMbme5rv03h0OaTqo7FkWq/9ONkQxpPqjiykWq/9OMUDmk8ueJYHLn+K79ONpTp5GojG7n+K79O4VCmk6yNxZEMQPh5siEMJ1ka2UgGIPw8hUMYTrY0Fkc2Ad33yYYum2xlZCObgO77FA5dNunKWBzpCGQFkA1ZNOnCyEY6AlkBFA5ZNPnCWBz5DFQVkA1VMvm6yEY+A1UFFA5VMgK6WBwCEEQlkA1RMAKyyIYABFEJFA5RMAqyWBwKFDQ1kA1NLgqqyIYCBU0NFA5NLhKqWBwSGCRFkA1JLBKiyIYEBkkRFA5JLBqiWBwaHBRVkA1FKhqayIYGB0UVFA5FKiKaWBwiIARlkA1BKCKSyIYICEEZFA5BKCqSWBwqJPR0kA09JiqKyIYKCT0dFA49JjKKWBwyKOSEkA05JDKCyIYMCjkhFA45JDqCWBw6LNSUkA01Ijp6yIYOCzUlFA41IkJ6WBxCMMSkkA0xIEJyyIYQDDEpFA4xIEpyWBxKNLS0kA0tHkpqyIYSDS0tFA4tHlJqWBxSOKTEkA0pHFJiyIYUDikxFA4pHFpiWBxaPJTUkA0lGlpayIYWDyU1FA4lGmJaWBxiQITkkA0hGGJSyIYYECE5FA4hGGpSWBxqRHT0kA0dFmpKyIYaER09FA4dFnJKWBxySGQEkQ0ZFHJCyIYcEhlBFA4ZFHpCWBx6TFQUkQ0VEno6yIYeExVFFA4VEoI6WByCUEQkkQ0REIIyyIYgFBFJFA4REIoyWByKVDQ0kQ0NDooqyIYiFQ1NFA4NDpIqWBySWCREkQ0JDJIiyIYkFglRFA4JDJoiWByaXBRUkQ0FCpoayIYmFwVVFA4FCqIaWByiYARkkQ0BCKISyIYoGAFZFA4BCKoSWByqZPJ1kY18BqoKyIYqmXxdFI58BrIKWByyaNKFkY10BLICyIYsmnRhfxeOv9JlIEDOgff395+vr69/yAlDULoDZCMdgawAsiGLJl3Yr2z8Khwf6UoQoOjA93/+599/KgpDU7IDHy/ff/z+jWwkYxB9nr0hCiZd1scL/0glHYKuABaHLptcZRSOXP+1X2dvaPPJU0fhyPPe4GUWhwGkFIkUjhTbTR5lb5iAui6TwnHdcqcHWRxOtG5qpXDcdNvtLfaGG7Fbeikct5y2fIfFYYntgmgKxwWTbZ9gb9iiCxZO4Qg22Pt6Foc3vzj1FI44b/1vZm/4M4yZgMIR42uRW1kcRUAeH4PCcdzSQheyNwrBPDoKheOondUuY3FUI3pqHgrHKScr3sPeqEj1xEwUjhMulr2DxVEW7eZgFI5NA0t/zt4ojXdjOArHhnn1P2Vx1Ge8NiGFY823Hl+xN3pwnp+SwjHvWaMvWByNYE+NSuGYsqvZYfZGM+DD41I4hq3qeJDF0ZH6yMwUjhGXup5hb3Ql/2xuCsczh1r/ncXRGv8Xw1M4SMZjB9gbpONzBygcJOMLB1gcxOPh4uD/vI1wPHCAvUE0KBxkYNoBFse0ZU0+4BeOJqCXxmRvLNnW4CN+4WgAeX1EFse6d7W/pHDU5rs3HXtjz7+6X1M46rI9MBmL44CJJa+gcJTEemgo9sYhI8tdQ+Eoh/TkQCyOk25WuovCUYnm6VnYG6cdrXIfhaMKyZA5WBwhtha4lMJRAGLYCOyNMGvNL6ZwmAOMlc/iiPXX93YKhy+7eOXsjXiPPV+gcHhyu6SaxXHJaLtnKBx2yC4KZm9cNNvqKQqHFa7bYlkctx13eY/C4UIqQyd7I8N1hzcpHA6U0jSyONKsF3+YwiEOKFUeeyPVfuHHKRzCcPKlsTjyGWgqoHBoctFQxd7Q4KCngsKhx0RIEYtDCIaUFAqHFA4xMewNMSAycigcMigUhbA4FKkoaKJwKFBQ1cDeUCWTrYvCkU1A+n0WhzSeRHEUjkTz5Z9mb8gjShJI4Ugy3uNZFocHp/sqKRz3Pfd5kb3hw+quUgrHXb/NXmNxmAG7JpfCcc1qw4fYG4bQrkimcFyx2fURFocruWjdFI5oh53vZ28404vUTuGIdNf+bhaHPcKgASgcQcaWuJa9UQJjwBAUjgBT61zJ4qjD8uwkFI6zfta6jb1Ri+e5aSgc57wseBOLoyDUIyNROI7YWPQS9kZRsNtjUTi2Lax8AYujMt2d2SgcO+5V/5a9UZ3w6nwUjlXnWnzH4miBeWFICseCaW0+YW+0QT05KIVj0rBex1kcvXiPT0vhGPeq30n2Rj/mYxNTOMZ8anqKxdEU/NOxKRxPLWp8gL3RGP6Xo1M4SMYXDrA4iMfnDlA4SMZjB9gbpOPh3vjt7e3tA39w4BMHWBzEgsJBBmYdYG/MOtblPL9wdCG9NCeLY8m2Bh/xC0cDyMsjsjeWrSv+IYWjOOC98Vgce/7V/ZrCUZft/mTsjX0Pa95A4ajJ9dBULI5DRpa7hsJRDunBgdgbB80sdRWFoxTO08OwOE47WuU+CkcVkhFzsDciXK1wJ4WjAsWwGVgcYdaaX0zhMAcYKp+9EWqv8eUUDmN48dJZHPEee75A4fDkdkc1e+OOz36vUDj8mF1UzOK4aLbVUxQOK1yXxbI3Lhtu8xyFwwZVhlAWR4brDm9SOBwoZWlkb2Q5r/4uhUOdUKo+Fkeq/cKPUziE4aRLY2+kIxAVQOEQBaMhi8WhwUFPBYVDj4mOIvaGDgstJRQOLR5ialgcYkBk5FA4ZFAICmFvCEKRkEThkMCgKoLFoUomWxeFI5uA8vvsDWU6mdooHJnuy7/N4pBHlCSQwpFkvMWz7A0LTAkiKRwJpvs8yeLwYXVXKYXjrt9er7E3vHjdU0vhuOe14UssDkNoVyRTOK7YbPoIe8MUXLhsCke4xc4PsDic6UVqp3BEuut+N3vDnWCUfgpHlLMl7mVxlMAYMASFI8DUMleyN8qgPDwIheOwobWuY3HU4nluGgrHOS/r3cTeqMf0zEQUjjM+Fr2FxVEU7PZYFI5tCwtfwN4oDHdrNArHln3VP2ZxVCe8Oh+FY9W5Dt+xNzpQXpmRwrHiWptvWBxtUE8OSuGYNKzVcfZGK9wTw1I4Jszqd5TF0Y/52MQUjjGfep5ib/Tk/nxqCsdzjxqfYHE0hv/l6BQOkvHYAfYG6fjcAQoHyfjCARYH8Xi4OH78/u1P7MGBTxxgbxALCgcZmHaAxTFtWZMP+IWjCeilMdkbS7Y1+IhfOBpAXh+RxbHuXe0vKRy1+e5Nx97Y86/u1xSOumwPTMbiOGBiySsoHCWxHhqKvXHIyHLX/H/h+KvcYAy07cD7+/vPf/337Y/ti7igngOvLz9//OMb2ahHdnsi9sa2hXUveH35+X+9ydM294UE1QAAAABJRU5ErkJggg==\" style=\"opacity: 1;\"/></g></g></g><g class=\"overplot\"/><path class=\"xlines-above crisp\" d=\"M79,99.5H621M79,370.5H621\" style=\"fill: none; stroke-width: 1px; stroke: rgb(0, 0, 0); stroke-opacity: 1;\"/><path class=\"ylines-above crisp\" d=\"M79.5,100V370M620.5,100V370\" style=\"fill: none; stroke-width: 1px; stroke: rgb(0, 0, 0); stroke-opacity: 1;\"/><g class=\"overlines-above\"/><g class=\"xaxislayer-above\"/><g class=\"yaxislayer-above\"/><g class=\"overaxes-above\"/></g></g><g class=\"polarlayer\"/><g class=\"ternarylayer\"/><g class=\"geolayer\"/><g class=\"funnelarealayer\"/><g class=\"pielayer\"/><g class=\"treemaplayer\"/><g class=\"sunburstlayer\"/><g class=\"glimages\"/><defs id=\"topdefs-154db8\"><g class=\"clips\"/></defs><g class=\"layer-above\"><g class=\"imagelayer\"/><g class=\"shapelayer\"><path data-index=\"0\" fill-rule=\"evenodd\" d=\"M174.5,214.75A27,13.5 0 1,1 147.5,201.25A27,13.5 0 0,1 174.5,214.75Z\" clip-path=\"url('#clip154db8xy')\" style=\"opacity: 1; stroke: rgb(65, 105, 225); stroke-opacity: 1; fill: rgb(0, 0, 0); fill-opacity: 0; stroke-width: 2px;\"/><path data-index=\"1\" fill-rule=\"evenodd\" d=\"M309.5,214.75A27,13.5 0 1,1 282.5,201.25A27,13.5 0 0,1 309.5,214.75Z\" clip-path=\"url('#clip154db8xy')\" style=\"opacity: 1; stroke: rgb(65, 105, 225); stroke-opacity: 1; fill: rgb(0, 0, 0); fill-opacity: 0; stroke-width: 2px;\"/><path data-index=\"2\" fill-rule=\"evenodd\" d=\"M174.5,154A27,13.5 0 1,1 147.5,140.5A27,13.5 0 0,1 174.5,154Z\" clip-path=\"url('#clip154db8xy')\" style=\"opacity: 1; stroke: rgb(65, 105, 225); stroke-opacity: 1; fill: rgb(0, 0, 0); fill-opacity: 0; stroke-width: 2px;\"/><path data-index=\"3\" fill-rule=\"evenodd\" d=\"M309.5,154A27,13.5 0 1,1 282.5,140.5A27,13.5 0 0,1 309.5,154Z\" clip-path=\"url('#clip154db8xy')\" style=\"opacity: 1; stroke: rgb(65, 105, 225); stroke-opacity: 1; fill: rgb(0, 0, 0); fill-opacity: 0; stroke-width: 2px;\"/><path data-index=\"4\" fill-rule=\"evenodd\" d=\"M174.5,343A27,13.5 0 1,1 147.5,329.5A27,13.5 0 0,1 174.5,343Z\" clip-path=\"url('#clip154db8xy')\" style=\"opacity: 1; stroke: rgb(65, 105, 225); stroke-opacity: 1; fill: rgb(0, 0, 0); fill-opacity: 0; stroke-width: 2px;\"/><path data-index=\"5\" fill-rule=\"evenodd\" d=\"M309.5,343A27,13.5 0 1,1 282.5,329.5A27,13.5 0 0,1 309.5,343Z\" clip-path=\"url('#clip154db8xy')\" style=\"opacity: 1; stroke: rgb(65, 105, 225); stroke-opacity: 1; fill: rgb(0, 0, 0); fill-opacity: 0; stroke-width: 2px;\"/><path data-index=\"6\" fill-rule=\"evenodd\" d=\"M620,214.75A27,13.5 0 1,1 593,201.25A27,13.5 0 0,1 620,214.75Z\" clip-path=\"url('#clip154db8xy')\" style=\"opacity: 1; stroke: rgb(65, 105, 225); stroke-opacity: 1; fill: rgb(0, 0, 0); fill-opacity: 0; stroke-width: 2px;\"/><path data-index=\"7\" fill-rule=\"evenodd\" d=\"M620,154A27,13.5 0 1,1 593,140.5A27,13.5 0 0,1 620,154Z\" clip-path=\"url('#clip154db8xy')\" style=\"opacity: 1; stroke: rgb(65, 105, 225); stroke-opacity: 1; fill: rgb(0, 0, 0); fill-opacity: 0; stroke-width: 2px;\"/><path data-index=\"8\" fill-rule=\"evenodd\" d=\"M620,343A27,13.5 0 1,1 593,329.5A27,13.5 0 0,1 620,343Z\" clip-path=\"url('#clip154db8xy')\" style=\"opacity: 1; stroke: rgb(65, 105, 225); stroke-opacity: 1; fill: rgb(0, 0, 0); fill-opacity: 0; stroke-width: 2px;\"/><path data-index=\"9\" fill-rule=\"evenodd\" d=\"M80,322.75H363.5V235H80Z\" clip-path=\"url('#clip154db8xy')\" style=\"opacity: 1; stroke: rgb(65, 105, 225); stroke-opacity: 1; fill: rgb(0, 0, 0); fill-opacity: 0; stroke-width: 2px;\"/><path data-index=\"10\" fill-rule=\"evenodd\" d=\"M80,133.75H363.5V100H80Z\" clip-path=\"url('#clip154db8xy')\" style=\"opacity: 1; stroke: rgb(65, 105, 225); stroke-opacity: 1; fill: rgb(0, 0, 0); fill-opacity: 0; stroke-width: 2px;\"/><path data-index=\"11\" fill-rule=\"evenodd\" d=\"M512,322.75H620V235H512Z\" clip-path=\"url('#clip154db8xy')\" style=\"opacity: 1; stroke: rgb(65, 105, 225); stroke-opacity: 1; fill: rgb(0, 0, 0); fill-opacity: 0; stroke-width: 2px;\"/><path data-index=\"12\" fill-rule=\"evenodd\" d=\"M512,133.75H620V100H512Z\" clip-path=\"url('#clip154db8xy')\" style=\"opacity: 1; stroke: rgb(65, 105, 225); stroke-opacity: 1; fill: rgb(0, 0, 0); fill-opacity: 0; stroke-width: 2px;\"/></g></g><g class=\"infolayer\"><g class=\"g-gtitle\"/><g class=\"g-xtitle\"><text class=\"xtitle\" x=\"350\" y=\"57\" text-anchor=\"middle\" style=\"font-family: 'Open Sans', verdana, arial, sans-serif; font-size: 14px; fill: rgb(42, 63, 95); opacity: 1; font-weight: normal; white-space: pre;\"><tspan class=\"line\" dy=\"0em\" x=\"350\" y=\"57\">Latest update: 2020-10-07 14:06:02 </tspan><tspan class=\"line\" dy=\"1.3em\" x=\"350\" y=\"57\"> Occupancy: 3</tspan></text></g><g class=\"g-ytitle\"/></g></svg>"
      ]
     },
     "metadata": {},
     "output_type": "display_data"
    }
   ],
   "source": [
    "for i in range(len(pp_rawdata)):\n",
    "    # People Position\n",
    "    src = pp_rawdata['Exist'][i]\n",
    "    src = np.asarray(src, dtype = \"uint16\")\n",
    "    src = np.frombuffer(src, dtype = \"uint8\")\n",
    "    src = np.unpackbits(src, bitorder = 'little')\n",
    "    pp = list(src)\n",
    "\n",
    "    # Transfer into Grid Data\n",
    "    x = [0, 1, 2, 3, 0, 1, 2, 3, 0, 1, 2, 3, 0, 1, 2, 3]\n",
    "    y = [2, 2, 2, 2, 3, 3, 3, 3, 0, 0, 0, 0, 1, 1, 1, 1]\n",
    "    Pos = [(x[j], y[j]) for j in range(16)]\n",
    "    grid_x, grid_y = np.mgrid[0:3:4j, 0:3:4j]\n",
    "    PPCub = griddata(Pos, pp, (grid_x, grid_y), method='cubic')\n",
    "    \n",
    "    # Plot\n",
    "    fig = go.Figure()\n",
    "    fig.add_trace(\n",
    "        go.Heatmap(\n",
    "            z=PPCub,\n",
    "            xgap=0.5,ygap=0.5,\n",
    "            colorscale=[[0, \"darkgray\"],[1, \"coral\"]],\n",
    "            showscale=False,\n",
    "            colorbar=dict(\n",
    "                x=1.1,\n",
    "                tick0=0, dtick=1, tickvals=[0,1], ticktext=['Unoccupied','Occupied'],\n",
    "                lenmode=\"pixels\"),\n",
    "            showlegend=False))\n",
    "    tt = pp_rawdata['Time'][i]\n",
    "    occ = pp_rawdata['Occ'][i]\n",
    "    \n",
    "    xis_template = dict(\n",
    "        range = [-0.5,3.5], \n",
    "        showgrid = True, \n",
    "        linecolor = 'black', mirror=True, showticklabels = False,\n",
    "        title=F'Latest update: {tt} <br> Occupancy: {occ}', side='top')\n",
    "    axis_template = dict(\n",
    "        range = [-0.5,3.5], \n",
    "        showgrid = True, \n",
    "        linecolor = 'black', mirror=True, showticklabels = False)\n",
    "    fig.update_layout(\n",
    "        width = 500, height = 500, autosize = False, xaxis = xis_template, yaxis = axis_template,\n",
    "        shapes=[dict(type=\"circle\",x0=-.2,y0=2,x1=.2,y1=1.6,line=dict(color=\"RoyalBlue\")),\n",
    "                dict(type=\"circle\",x0=.8,y0=2,x1=1.2,y1=1.6,line=dict(color=\"RoyalBlue\")),\n",
    "                dict(type=\"circle\",x0=-.2,y0=2.9,x1=.2,y1=2.5,line=dict(color=\"RoyalBlue\")),\n",
    "                dict(type=\"circle\",x0=.8,y0=2.9,x1=1.2,y1=2.5,line=dict(color=\"RoyalBlue\")),\n",
    "                dict(type=\"circle\",x0=-.2,y0=.1,x1=.2,y1=-.3,line=dict(color=\"RoyalBlue\")),\n",
    "                dict(type=\"circle\",x0=.8,y0=.1,x1=1.2,y1=-.3,line=dict(color=\"RoyalBlue\")),\n",
    "                dict(type=\"circle\",x0=3.1,y0=2,x1=3.5,y1=1.6,line=dict(color=\"RoyalBlue\")),\n",
    "                dict(type=\"circle\",x0=3.1,y0=2.9,x1=3.5,y1=2.5,line=dict(color=\"RoyalBlue\")),\n",
    "                dict(type=\"circle\",x0=3.1,y0=.1,x1=3.5,y1=-.3,line=dict(color=\"RoyalBlue\")),\n",
    "                dict(type=\"rect\",x0=-.5,y0=.2,x1=1.6,y1=1.5,line=dict(color=\"RoyalBlue\")),\n",
    "                dict(type=\"rect\",x0=-.5,y0=3,x1=1.6,y1=3.5,line=dict(color=\"RoyalBlue\")),\n",
    "                dict(type=\"rect\",x0=2.7,y0=.2,x1=3.5,y1=1.5,line=dict(color=\"RoyalBlue\")),\n",
    "                dict(type=\"rect\",x0=2.7,y0=3,x1=3.5,y1=3.5,line=dict(color=\"RoyalBlue\")),])\n",
    "    fig.update_yaxes(tickvals=[0,1,2,3])\n",
    "    fig.show()"
   ]
  },
  {
   "cell_type": "markdown",
   "metadata": {},
   "source": [
    "As we can see during the period of the example, there is an occupant moving into the office and sitting on the right bottom.\n",
    "\n",
    "Moreover, the data will be recorded as an occupancy feature for other applications in the office.\n",
    "\n",
    "**Note: The figure size is not in the best one because Github can't show a plotly figure."
   ]
  },
  {
   "cell_type": "markdown",
   "metadata": {},
   "source": [
    "### Reference\n",
    "\n",
    "[1]\n",
    "\n",
    "AMGU 4241 <br>\n",
    "https://na.industrial.panasonic.com/whats-new/infrared-array-sensor-grid-eye-unit-amgu4241"
   ]
  }
 ],
 "metadata": {
  "kernelspec": {
   "display_name": "Python 3.8.3 64-bit",
   "language": "python",
   "name": "python38364bite334d6efca9543ea9610dacf12512133"
  },
  "language_info": {
   "codemirror_mode": {
    "name": "ipython",
    "version": 3
   },
   "file_extension": ".py",
   "mimetype": "text/x-python",
   "name": "python",
   "nbconvert_exporter": "python",
   "pygments_lexer": "ipython3",
   "version": "3.8.3"
  }
 },
 "nbformat": 4,
 "nbformat_minor": 4
}
